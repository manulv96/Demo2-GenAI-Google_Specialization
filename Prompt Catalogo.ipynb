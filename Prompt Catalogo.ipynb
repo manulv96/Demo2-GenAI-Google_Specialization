{
  "cells": [
    {
      "cell_type": "markdown",
      "id": "5JPA60TzD9EVPdbevIeCCw3P",
      "metadata": {
        "tags": [],
        "id": "5JPA60TzD9EVPdbevIeCCw3P"
      },
      "source": [
        "1. Install the Vertex AI SDK: Open a terminal window and enter the command below. You can also [install it in a virtualenv](https://googleapis.dev/python/aiplatform/latest/index.html)"
      ]
    },
    {
      "cell_type": "code",
      "id": "ANb6mzxu5yyXyCBnl7YLUchV",
      "metadata": {
        "tags": [],
        "id": "ANb6mzxu5yyXyCBnl7YLUchV",
        "colab": {
          "base_uri": "https://localhost:8080/",
          "height": 845
        },
        "executionInfo": {
          "status": "ok",
          "timestamp": 1721761741938,
          "user_tz": 300,
          "elapsed": 34949,
          "user": {
            "displayName": "",
            "userId": ""
          }
        },
        "outputId": "fa885ca2-fb2f-49df-a50d-84a4be8c2c5a"
      },
      "source": [
        "!pip install --upgrade google-cloud-aiplatform"
      ],
      "execution_count": 1,
      "outputs": [
        {
          "output_type": "stream",
          "name": "stdout",
          "text": [
            "Requirement already satisfied: google-cloud-aiplatform in /usr/local/lib/python3.10/dist-packages (1.57.0)\n",
            "Collecting google-cloud-aiplatform\n",
            "  Downloading google_cloud_aiplatform-1.59.0-py2.py3-none-any.whl (5.1 MB)\n",
            "\u001b[2K     \u001b[90m━━━━━━━━━━━━━━━━━━━━━━━━━━━━━━━━━━━━━━━━\u001b[0m \u001b[32m5.1/5.1 MB\u001b[0m \u001b[31m18.4 MB/s\u001b[0m eta \u001b[36m0:00:00\u001b[0m\n",
            "\u001b[?25hRequirement already satisfied: google-api-core[grpc]!=2.0.*,!=2.1.*,!=2.2.*,!=2.3.*,!=2.4.*,!=2.5.*,!=2.6.*,!=2.7.*,<3.0.0dev,>=1.34.1 in /usr/local/lib/python3.10/dist-packages (from google-cloud-aiplatform) (2.16.2)\n",
            "Requirement already satisfied: google-auth<3.0.0dev,>=2.14.1 in /usr/local/lib/python3.10/dist-packages (from google-cloud-aiplatform) (2.27.0)\n",
            "Requirement already satisfied: proto-plus<2.0.0dev,>=1.22.3 in /usr/local/lib/python3.10/dist-packages (from google-cloud-aiplatform) (1.24.0)\n",
            "Requirement already satisfied: protobuf!=3.20.0,!=3.20.1,!=4.21.0,!=4.21.1,!=4.21.2,!=4.21.3,!=4.21.4,!=4.21.5,<5.0.0dev,>=3.19.5 in /usr/local/lib/python3.10/dist-packages (from google-cloud-aiplatform) (3.20.3)\n",
            "Requirement already satisfied: packaging>=14.3 in /usr/local/lib/python3.10/dist-packages (from google-cloud-aiplatform) (24.1)\n",
            "Requirement already satisfied: google-cloud-storage<3.0.0dev,>=1.32.0 in /usr/local/lib/python3.10/dist-packages (from google-cloud-aiplatform) (2.8.0)\n",
            "Requirement already satisfied: google-cloud-bigquery!=3.20.0,<4.0.0dev,>=1.15.0 in /usr/local/lib/python3.10/dist-packages (from google-cloud-aiplatform) (3.21.0)\n",
            "Requirement already satisfied: google-cloud-resource-manager<3.0.0dev,>=1.3.3 in /usr/local/lib/python3.10/dist-packages (from google-cloud-aiplatform) (1.12.3)\n",
            "Requirement already satisfied: shapely<3.0.0dev in /usr/local/lib/python3.10/dist-packages (from google-cloud-aiplatform) (2.0.4)\n",
            "Requirement already satisfied: pydantic<3 in /usr/local/lib/python3.10/dist-packages (from google-cloud-aiplatform) (1.10.17)\n",
            "Requirement already satisfied: docstring-parser<1 in /usr/local/lib/python3.10/dist-packages (from google-cloud-aiplatform) (0.16)\n",
            "Requirement already satisfied: googleapis-common-protos<2.0.dev0,>=1.56.2 in /usr/local/lib/python3.10/dist-packages (from google-api-core[grpc]!=2.0.*,!=2.1.*,!=2.2.*,!=2.3.*,!=2.4.*,!=2.5.*,!=2.6.*,!=2.7.*,<3.0.0dev,>=1.34.1->google-cloud-aiplatform) (1.63.2)\n",
            "Requirement already satisfied: requests<3.0.0.dev0,>=2.18.0 in /usr/local/lib/python3.10/dist-packages (from google-api-core[grpc]!=2.0.*,!=2.1.*,!=2.2.*,!=2.3.*,!=2.4.*,!=2.5.*,!=2.6.*,!=2.7.*,<3.0.0dev,>=1.34.1->google-cloud-aiplatform) (2.31.0)\n",
            "Requirement already satisfied: grpcio<2.0dev,>=1.33.2 in /usr/local/lib/python3.10/dist-packages (from google-api-core[grpc]!=2.0.*,!=2.1.*,!=2.2.*,!=2.3.*,!=2.4.*,!=2.5.*,!=2.6.*,!=2.7.*,<3.0.0dev,>=1.34.1->google-cloud-aiplatform) (1.64.1)\n",
            "Requirement already satisfied: grpcio-status<2.0.dev0,>=1.33.2 in /usr/local/lib/python3.10/dist-packages (from google-api-core[grpc]!=2.0.*,!=2.1.*,!=2.2.*,!=2.3.*,!=2.4.*,!=2.5.*,!=2.6.*,!=2.7.*,<3.0.0dev,>=1.34.1->google-cloud-aiplatform) (1.48.2)\n",
            "Requirement already satisfied: cachetools<6.0,>=2.0.0 in /usr/local/lib/python3.10/dist-packages (from google-auth<3.0.0dev,>=2.14.1->google-cloud-aiplatform) (5.3.3)\n",
            "Requirement already satisfied: pyasn1-modules>=0.2.1 in /usr/local/lib/python3.10/dist-packages (from google-auth<3.0.0dev,>=2.14.1->google-cloud-aiplatform) (0.4.0)\n",
            "Requirement already satisfied: rsa<5,>=3.1.4 in /usr/local/lib/python3.10/dist-packages (from google-auth<3.0.0dev,>=2.14.1->google-cloud-aiplatform) (4.9)\n",
            "Requirement already satisfied: google-cloud-core<3.0.0dev,>=1.6.0 in /usr/local/lib/python3.10/dist-packages (from google-cloud-bigquery!=3.20.0,<4.0.0dev,>=1.15.0->google-cloud-aiplatform) (2.3.3)\n",
            "Requirement already satisfied: google-resumable-media<3.0dev,>=0.6.0 in /usr/local/lib/python3.10/dist-packages (from google-cloud-bigquery!=3.20.0,<4.0.0dev,>=1.15.0->google-cloud-aiplatform) (2.7.1)\n",
            "Requirement already satisfied: python-dateutil<3.0dev,>=2.7.2 in /usr/local/lib/python3.10/dist-packages (from google-cloud-bigquery!=3.20.0,<4.0.0dev,>=1.15.0->google-cloud-aiplatform) (2.8.2)\n",
            "Requirement already satisfied: grpc-google-iam-v1<1.0.0dev,>=0.12.4 in /usr/local/lib/python3.10/dist-packages (from google-cloud-resource-manager<3.0.0dev,>=1.3.3->google-cloud-aiplatform) (0.13.1)\n",
            "Requirement already satisfied: typing-extensions>=4.2.0 in /usr/local/lib/python3.10/dist-packages (from pydantic<3->google-cloud-aiplatform) (4.12.2)\n",
            "Requirement already satisfied: numpy<3,>=1.14 in /usr/local/lib/python3.10/dist-packages (from shapely<3.0.0dev->google-cloud-aiplatform) (1.25.2)\n",
            "Requirement already satisfied: google-crc32c<2.0dev,>=1.0 in /usr/local/lib/python3.10/dist-packages (from google-resumable-media<3.0dev,>=0.6.0->google-cloud-bigquery!=3.20.0,<4.0.0dev,>=1.15.0->google-cloud-aiplatform) (1.5.0)\n",
            "Requirement already satisfied: pyasn1<0.7.0,>=0.4.6 in /usr/local/lib/python3.10/dist-packages (from pyasn1-modules>=0.2.1->google-auth<3.0.0dev,>=2.14.1->google-cloud-aiplatform) (0.6.0)\n",
            "Requirement already satisfied: six>=1.5 in /usr/local/lib/python3.10/dist-packages (from python-dateutil<3.0dev,>=2.7.2->google-cloud-bigquery!=3.20.0,<4.0.0dev,>=1.15.0->google-cloud-aiplatform) (1.16.0)\n",
            "Requirement already satisfied: charset-normalizer<4,>=2 in /usr/local/lib/python3.10/dist-packages (from requests<3.0.0.dev0,>=2.18.0->google-api-core[grpc]!=2.0.*,!=2.1.*,!=2.2.*,!=2.3.*,!=2.4.*,!=2.5.*,!=2.6.*,!=2.7.*,<3.0.0dev,>=1.34.1->google-cloud-aiplatform) (3.3.2)\n",
            "Requirement already satisfied: idna<4,>=2.5 in /usr/local/lib/python3.10/dist-packages (from requests<3.0.0.dev0,>=2.18.0->google-api-core[grpc]!=2.0.*,!=2.1.*,!=2.2.*,!=2.3.*,!=2.4.*,!=2.5.*,!=2.6.*,!=2.7.*,<3.0.0dev,>=1.34.1->google-cloud-aiplatform) (3.7)\n",
            "Requirement already satisfied: urllib3<3,>=1.21.1 in /usr/local/lib/python3.10/dist-packages (from requests<3.0.0.dev0,>=2.18.0->google-api-core[grpc]!=2.0.*,!=2.1.*,!=2.2.*,!=2.3.*,!=2.4.*,!=2.5.*,!=2.6.*,!=2.7.*,<3.0.0dev,>=1.34.1->google-cloud-aiplatform) (2.0.7)\n",
            "Requirement already satisfied: certifi>=2017.4.17 in /usr/local/lib/python3.10/dist-packages (from requests<3.0.0.dev0,>=2.18.0->google-api-core[grpc]!=2.0.*,!=2.1.*,!=2.2.*,!=2.3.*,!=2.4.*,!=2.5.*,!=2.6.*,!=2.7.*,<3.0.0dev,>=1.34.1->google-cloud-aiplatform) (2024.6.2)\n",
            "Installing collected packages: google-cloud-aiplatform\n",
            "  Attempting uninstall: google-cloud-aiplatform\n",
            "    Found existing installation: google-cloud-aiplatform 1.57.0\n",
            "    Uninstalling google-cloud-aiplatform-1.57.0:\n",
            "      Successfully uninstalled google-cloud-aiplatform-1.57.0\n",
            "Successfully installed google-cloud-aiplatform-1.59.0\n"
          ]
        },
        {
          "output_type": "display_data",
          "data": {
            "application/vnd.colab-display-data+json": {
              "pip_warning": {
                "packages": [
                  "google"
                ]
              },
              "id": "4e0742f43dfc4a3885c8846cb4f6a977"
            }
          },
          "metadata": {}
        }
      ]
    },
    {
      "cell_type": "markdown",
      "id": "fLNM0I8qqImt7bjgxrVfPVhU",
      "metadata": {
        "tags": [],
        "id": "fLNM0I8qqImt7bjgxrVfPVhU"
      },
      "source": [
        "2. Use the following code in your application to request a model response"
      ]
    },
    {
      "cell_type": "code",
      "id": "cs8dhyvlqaeXixb6r5fcLZYg",
      "metadata": {
        "tags": [],
        "id": "cs8dhyvlqaeXixb6r5fcLZYg",
        "colab": {
          "base_uri": "https://localhost:8080/"
        },
        "executionInfo": {
          "status": "ok",
          "timestamp": 1721761747223,
          "user_tz": 300,
          "elapsed": 5295,
          "user": {
            "displayName": "",
            "userId": ""
          }
        },
        "outputId": "6404f23a-9b6e-4546-b35a-2c1a685cd876"
      },
      "source": [
        "import base64\n",
        "import vertexai\n",
        "from vertexai.generative_models import GenerativeModel, Part, FinishReason\n",
        "import vertexai.preview.generative_models as generative_models\n",
        "\n",
        "def generate():\n",
        "  vertexai.init(project=\"corebigenai\", location=\"us-central1\")\n",
        "  model = GenerativeModel(\n",
        "    \"gemini-1.0-pro-001\",\n",
        "  )\n",
        "  responses = model.generate_content(\n",
        "      [text1],\n",
        "      generation_config=generation_config,\n",
        "      safety_settings=safety_settings,\n",
        "      stream=True,\n",
        "  )\n",
        "\n",
        "  for response in responses:\n",
        "    print(response.text, end=\"\")\n",
        "\n",
        "text1 = \"\"\"Consider a table called `corebigenai.demos.productos`\n",
        "with schema as described below.\n",
        "Column name   Description   type\n",
        "prod_id      Codigo del Producto (Numero de Producto que identifica el producto)\n",
        "prod_name      Nombre del producto (Todo en letra minuscula)\n",
        "prod_name_long      Descripcion del producto (Todo en letra minuscula)\n",
        "prod_brand     Marca del producto (Todo en letra minuscula)\n",
        "subcategory    Categoria del producto (Todo en letra minuscula)\n",
        "tags       Etqiquetas del producto (Todo en letra minuscula)\n",
        "prod_unit_price      Precio unitario del producto\n",
        "prod_units   Tipo de unidades del producto (Todo en letra minuscula)\n",
        "prod_source  Proveedor o Fabricante (Todo en letra minuscula)\n",
        "\n",
        "Use always lowercase for the words in the description of the product.\n",
        "Always separe each word with \\\"OR\\\" SQL Sentence about product description in the query for have best results.\n",
        "prod_id is alwasy a number.\n",
        "As data analysis expert, please write a SQL query in bigquery and use always the SQL comands LIKE with OR for each main word, and always LIMIT 10\n",
        "about the next request: Cual es el producto mas costoso?\"\"\"\n",
        "\n",
        "generation_config = {\n",
        "    \"max_output_tokens\": 2048,\n",
        "    \"temperature\": 0.2,\n",
        "    \"top_p\": 1,\n",
        "}\n",
        "\n",
        "safety_settings = {\n",
        "    generative_models.HarmCategory.HARM_CATEGORY_HATE_SPEECH: generative_models.HarmBlockThreshold.BLOCK_MEDIUM_AND_ABOVE,\n",
        "    generative_models.HarmCategory.HARM_CATEGORY_DANGEROUS_CONTENT: generative_models.HarmBlockThreshold.BLOCK_MEDIUM_AND_ABOVE,\n",
        "    generative_models.HarmCategory.HARM_CATEGORY_SEXUALLY_EXPLICIT: generative_models.HarmBlockThreshold.BLOCK_MEDIUM_AND_ABOVE,\n",
        "    generative_models.HarmCategory.HARM_CATEGORY_HARASSMENT: generative_models.HarmBlockThreshold.BLOCK_MEDIUM_AND_ABOVE,\n",
        "}\n",
        "\n",
        "generate()\n",
        "\n"
      ],
      "execution_count": 2,
      "outputs": [
        {
          "output_type": "stream",
          "name": "stdout",
          "text": [
            "```sql\n",
            "SELECT\n",
            "  prod_name,\n",
            "  prod_unit_price\n",
            "FROM `corebigenai.demos.productos`\n",
            "WHERE\n",
            "  prod_name_long LIKE '%mas%OR%costoso%'\n",
            "ORDER BY\n",
            "  prod_unit_price DESC\n",
            "LIMIT 10;\n",
            "```"
          ]
        }
      ]
    },
    {
      "cell_type": "code",
      "source": [
        "! pip install pandas==2.0.0"
      ],
      "metadata": {
        "id": "bEx2KZ0pAenb"
      },
      "id": "bEx2KZ0pAenb",
      "execution_count": null,
      "outputs": []
    },
    {
      "cell_type": "code",
      "source": [
        "import re\n",
        "import datetime\n",
        "import requests\n",
        "from io import StringIO, BytesIO\n",
        "from html.parser import HTMLParser\n",
        "from bs4 import BeautifulSoup\n",
        "from google import auth\n",
        "from google.cloud import storage\n",
        "from google.auth.transport import requests as req\n",
        "import pandas as pd\n",
        "from google.cloud import bigquery"
      ],
      "metadata": {
        "id": "8gsZR23a_jHk",
        "executionInfo": {
          "status": "ok",
          "timestamp": 1721761976751,
          "user_tz": 300,
          "elapsed": 792,
          "user": {
            "displayName": "",
            "userId": ""
          }
        }
      },
      "id": "8gsZR23a_jHk",
      "execution_count": 1,
      "outputs": []
    },
    {
      "cell_type": "code",
      "source": [
        "client2 = bigquery.Client()"
      ],
      "metadata": {
        "id": "ufjZfHny_rT8",
        "executionInfo": {
          "status": "ok",
          "timestamp": 1721762017516,
          "user_tz": 300,
          "elapsed": 538,
          "user": {
            "displayName": "",
            "userId": ""
          }
        }
      },
      "id": "ufjZfHny_rT8",
      "execution_count": 6,
      "outputs": []
    },
    {
      "cell_type": "code",
      "source": [
        "query=\" SELECT   prod_name,   prod_unit_price FROM   `corebigenai.demos.productos` WHERE   LOWER(prod_name) LIKE '%celular%' OR LOWER(prod_name) LIKE '%iphone%' ORDER BY   prod_unit_price DESC LIMIT 10;\""
      ],
      "metadata": {
        "id": "9Pq9XPCD_uyA",
        "executionInfo": {
          "status": "ok",
          "timestamp": 1721763522174,
          "user_tz": 300,
          "elapsed": 3,
          "user": {
            "displayName": "",
            "userId": ""
          }
        }
      },
      "id": "9Pq9XPCD_uyA",
      "execution_count": 12,
      "outputs": []
    },
    {
      "cell_type": "code",
      "source": [
        "df = (client2.query(query).result().to_dataframe())\n"
      ],
      "metadata": {
        "id": "8ADj3wO6_nt_",
        "executionInfo": {
          "status": "ok",
          "timestamp": 1721761981168,
          "user_tz": 300,
          "elapsed": 3002,
          "user": {
            "displayName": "",
            "userId": ""
          }
        }
      },
      "id": "8ADj3wO6_nt_",
      "execution_count": 4,
      "outputs": []
    },
    {
      "cell_type": "code",
      "source": [
        "df = (client2.query(query.replace(\"GROUP_CONCAT\", \"STRING_AGG\")).result().to_dataframe())"
      ],
      "metadata": {
        "id": "LR08IH7xA1Of",
        "executionInfo": {
          "status": "ok",
          "timestamp": 1721763526732,
          "user_tz": 300,
          "elapsed": 2539,
          "user": {
            "displayName": "",
            "userId": ""
          }
        }
      },
      "id": "LR08IH7xA1Of",
      "execution_count": 13,
      "outputs": []
    },
    {
      "cell_type": "code",
      "source": [
        "df"
      ],
      "metadata": {
        "colab": {
          "base_uri": "https://localhost:8080/",
          "height": 53
        },
        "id": "R7oDYkNzA40Z",
        "executionInfo": {
          "status": "ok",
          "timestamp": 1721763526732,
          "user_tz": 300,
          "elapsed": 6,
          "user": {
            "displayName": "",
            "userId": ""
          }
        },
        "outputId": "a03e4b71-6b16-4ddd-97b7-e6cffac8b3a8"
      },
      "id": "R7oDYkNzA40Z",
      "execution_count": 14,
      "outputs": [
        {
          "output_type": "execute_result",
          "data": {
            "text/plain": [
              "Empty DataFrame\n",
              "Columns: [prod_name, prod_unit_price]\n",
              "Index: []"
            ],
            "text/html": [
              "\n",
              "  <div id=\"df-4daaa044-ed30-43c2-a957-e7b363f500c7\" class=\"colab-df-container\">\n",
              "    <div>\n",
              "<style scoped>\n",
              "    .dataframe tbody tr th:only-of-type {\n",
              "        vertical-align: middle;\n",
              "    }\n",
              "\n",
              "    .dataframe tbody tr th {\n",
              "        vertical-align: top;\n",
              "    }\n",
              "\n",
              "    .dataframe thead th {\n",
              "        text-align: right;\n",
              "    }\n",
              "</style>\n",
              "<table border=\"1\" class=\"dataframe\">\n",
              "  <thead>\n",
              "    <tr style=\"text-align: right;\">\n",
              "      <th></th>\n",
              "      <th>prod_name</th>\n",
              "      <th>prod_unit_price</th>\n",
              "    </tr>\n",
              "  </thead>\n",
              "  <tbody>\n",
              "  </tbody>\n",
              "</table>\n",
              "</div>\n",
              "    <div class=\"colab-df-buttons\">\n",
              "\n",
              "  <div class=\"colab-df-container\">\n",
              "    <button class=\"colab-df-convert\" onclick=\"convertToInteractive('df-4daaa044-ed30-43c2-a957-e7b363f500c7')\"\n",
              "            title=\"Convert this dataframe to an interactive table.\"\n",
              "            style=\"display:none;\">\n",
              "\n",
              "  <svg xmlns=\"http://www.w3.org/2000/svg\" height=\"24px\" viewBox=\"0 -960 960 960\">\n",
              "    <path d=\"M120-120v-720h720v720H120Zm60-500h600v-160H180v160Zm220 220h160v-160H400v160Zm0 220h160v-160H400v160ZM180-400h160v-160H180v160Zm440 0h160v-160H620v160ZM180-180h160v-160H180v160Zm440 0h160v-160H620v160Z\"/>\n",
              "  </svg>\n",
              "    </button>\n",
              "\n",
              "  <style>\n",
              "    .colab-df-container {\n",
              "      display:flex;\n",
              "      gap: 12px;\n",
              "    }\n",
              "\n",
              "    .colab-df-convert {\n",
              "      background-color: #E8F0FE;\n",
              "      border: none;\n",
              "      border-radius: 50%;\n",
              "      cursor: pointer;\n",
              "      display: none;\n",
              "      fill: #1967D2;\n",
              "      height: 32px;\n",
              "      padding: 0 0 0 0;\n",
              "      width: 32px;\n",
              "    }\n",
              "\n",
              "    .colab-df-convert:hover {\n",
              "      background-color: #E2EBFA;\n",
              "      box-shadow: 0px 1px 2px rgba(60, 64, 67, 0.3), 0px 1px 3px 1px rgba(60, 64, 67, 0.15);\n",
              "      fill: #174EA6;\n",
              "    }\n",
              "\n",
              "    .colab-df-buttons div {\n",
              "      margin-bottom: 4px;\n",
              "    }\n",
              "\n",
              "    [theme=dark] .colab-df-convert {\n",
              "      background-color: #3B4455;\n",
              "      fill: #D2E3FC;\n",
              "    }\n",
              "\n",
              "    [theme=dark] .colab-df-convert:hover {\n",
              "      background-color: #434B5C;\n",
              "      box-shadow: 0px 1px 3px 1px rgba(0, 0, 0, 0.15);\n",
              "      filter: drop-shadow(0px 1px 2px rgba(0, 0, 0, 0.3));\n",
              "      fill: #FFFFFF;\n",
              "    }\n",
              "  </style>\n",
              "\n",
              "    <script>\n",
              "      const buttonEl =\n",
              "        document.querySelector('#df-4daaa044-ed30-43c2-a957-e7b363f500c7 button.colab-df-convert');\n",
              "      buttonEl.style.display =\n",
              "        google.colab.kernel.accessAllowed ? 'block' : 'none';\n",
              "\n",
              "      async function convertToInteractive(key) {\n",
              "        const element = document.querySelector('#df-4daaa044-ed30-43c2-a957-e7b363f500c7');\n",
              "        const dataTable =\n",
              "          await google.colab.kernel.invokeFunction('convertToInteractive',\n",
              "                                                    [key], {});\n",
              "        if (!dataTable) return;\n",
              "\n",
              "        const docLinkHtml = 'Like what you see? Visit the ' +\n",
              "          '<a target=\"_blank\" href=https://colab.research.google.com/notebooks/data_table.ipynb>data table notebook</a>'\n",
              "          + ' to learn more about interactive tables.';\n",
              "        element.innerHTML = '';\n",
              "        dataTable['output_type'] = 'display_data';\n",
              "        await google.colab.output.renderOutput(dataTable, element);\n",
              "        const docLink = document.createElement('div');\n",
              "        docLink.innerHTML = docLinkHtml;\n",
              "        element.appendChild(docLink);\n",
              "      }\n",
              "    </script>\n",
              "  </div>\n",
              "\n",
              "    </div>\n",
              "  </div>\n"
            ]
          },
          "metadata": {},
          "execution_count": 14
        }
      ]
    },
    {
      "cell_type": "code",
      "source": [
        "df_string = df.to_string()"
      ],
      "metadata": {
        "id": "N2bFSxrWA2DY",
        "executionInfo": {
          "status": "ok",
          "timestamp": 1721762039820,
          "user_tz": 300,
          "elapsed": 494,
          "user": {
            "displayName": "",
            "userId": ""
          }
        }
      },
      "id": "N2bFSxrWA2DY",
      "execution_count": 10,
      "outputs": []
    },
    {
      "cell_type": "code",
      "source": [
        "df_string"
      ],
      "metadata": {
        "colab": {
          "base_uri": "https://localhost:8080/",
          "height": 87
        },
        "id": "2EkYumOYAuKd",
        "executionInfo": {
          "status": "ok",
          "timestamp": 1721762041804,
          "user_tz": 300,
          "elapsed": 762,
          "user": {
            "displayName": "",
            "userId": ""
          }
        },
        "outputId": "380fbcc8-4cf9-4d76-e65e-e2ba5abfb938"
      },
      "id": "2EkYumOYAuKd",
      "execution_count": 11,
      "outputs": [
        {
          "output_type": "execute_result",
          "data": {
            "text/plain": [
              "'   int64_field_0      date        prod_id                                 prod_name                                           prod_name_long       prod_brand      category                     subcategory                   tags  prod_unit_price prod_units                                       prod_icon prod_source  source_type\\n0          15852  20191101  2996131000003             queso semimaduro feta cheese                      queso semimaduro feta cheese x 210 g  centurion foods  supermercado                     charcutería  quesos especializados       10119047.0   unidades                 ../icons/SVG/74-food/cheese.svg       verde            1\\n1          15845  20191101  2959274000002                   queso porvolone alpina                             queso porvolone alpina x 170g           alpina  supermercado                     charcutería  quesos especializados        8138823.0   unidades                 ../icons/SVG/74-food/cheese.svg       verde            1\\n2          15821  20191101  2987147000002                   queso emmental colanta                             queso emmental colanta x 230g          colanta  supermercado                     charcutería  quesos especializados        7038695.0   unidades                 ../icons/SVG/74-food/cheese.svg       verde            1\\n3          15841  20191101  2935096000000                     queso monterrey jack                               queso monterrey jack x 180g          colanta  supermercado                     charcutería  quesos especializados        4838888.0   unidades                 ../icons/SVG/74-food/cheese.svg       verde            1\\n4          24158  20200220  7702129061094                     gelatina colanta uva                               gelatina colanta uva x 120g          colanta  supermercado  lácteos, huevos y refrigerados   postres refrigerados         990000.0   unidades  ../icons/SVG/73-drink/organic-liquid-glass.svg       verde            1\\n5          23361  20200220  7702129061056                   gelatina colanta fresa                             gelatina colanta fresa x 120g          colanta  supermercado  lácteos, huevos y refrigerados   postres refrigerados         990000.0   unidades  ../icons/SVG/73-drink/organic-liquid-glass.svg       verde            1\\n6          23364  20200220  7702129061094                     gelatina colanta uva                               gelatina colanta uva x 120g          colanta  supermercado  lácteos, huevos y refrigerados   postres refrigerados         990000.0   unidades  ../icons/SVG/73-drink/organic-liquid-glass.svg       verde            1\\n7          24155  20200220  7702129061056                   gelatina colanta fresa                             gelatina colanta fresa x 120g          colanta  supermercado  lácteos, huevos y refrigerados   postres refrigerados         990000.0   unidades  ../icons/SVG/73-drink/organic-liquid-glass.svg       verde            1\\n8          23688  20200220  7703616273402  bolsa neegra para papelera home care 48   bolsa neegra para papelera home care 48 x 52 cm x 6 und        home care  supermercado              limpieza de cocina       bolsas de basura         990000.0   unidades  ../icons/SVG/59-nature-ecology/recycle-bin.svg       verde            1\\n9          23363  20200220  7702129061070             gelatina colanta twisty mora                        gelatina colanta twisty mora x120g          colanta  supermercado  lácteos, huevos y refrigerados   postres refrigerados         990000.0   unidades  ../icons/SVG/73-drink/organic-liquid-glass.svg       verde            1'"
            ],
            "application/vnd.google.colaboratory.intrinsic+json": {
              "type": "string"
            }
          },
          "metadata": {},
          "execution_count": 11
        }
      ]
    }
  ],
  "metadata": {
    "kernelspec": {
      "display_name": "Python 3",
      "language": "python",
      "name": "python3"
    },
    "language_info": {
      "codemirror_mode": {
        "name": "ipython",
        "version": 3
      },
      "file_extension": ".py",
      "mimetype": "text/x-python",
      "name": "python",
      "nbconvert_exporter": "python",
      "pygments_lexer": "ipython3",
      "version": "3.10.10"
    },
    "colab": {
      "provenance": [],
      "name": "Prompt Catalogo 19 jul 2024, 1:45:47 p.m."
    }
  },
  "nbformat": 4,
  "nbformat_minor": 5
}